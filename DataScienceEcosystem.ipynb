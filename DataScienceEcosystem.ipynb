{
 "cells": [
  {
   "cell_type": "markdown",
   "id": "98c1f025",
   "metadata": {},
   "source": [
    "# Data Science Tools and Ecosystem"
   ]
  },
  {
   "cell_type": "markdown",
   "id": "98415d75",
   "metadata": {},
   "source": [
    "In this notebook, Data Science Tools and Ecosystem are summarized"
   ]
  },
  {
   "cell_type": "markdown",
   "id": "2c29342f",
   "metadata": {},
   "source": [
    "Some of the popular languages that Data Scientist use are:\n",
    "    1.Python\n",
    "    2.Structured Query Language(SQL)\n",
    "    3.R"
   ]
  },
  {
   "cell_type": "markdown",
   "id": "82c7b334",
   "metadata": {},
   "source": [
    "Some of the commonly used libraries used by Data Scientists include:\n",
    "    1.Pandas\n",
    "    2.NumPy\n",
    "    3.Matplotlib\n",
    "    "
   ]
  },
  {
   "cell_type": "markdown",
   "id": "0b6cc327",
   "metadata": {},
   "source": [
    "# Objective:\n",
    "* List Popular Languages for Data Science\n",
    "* Tools Used For Data Science\n",
    "* Data As a Career\n"
   ]
  },
  {
   "cell_type": "markdown",
   "id": "33889027",
   "metadata": {},
   "source": [
    "|Data Science Tools|\n",
    "|------------------|\n",
    "|Jupyter Notebook  |\n",
    "|Apache Spark      |\n",
    "|Tensor Flow       |\n",
    "\n",
    "\n"
   ]
  },
  {
   "cell_type": "markdown",
   "id": "1ce3a43d",
   "metadata": {},
   "source": [
    "### Below are a few examples of evaluating arithmetic expressions in Python"
   ]
  },
  {
   "cell_type": "code",
   "execution_count": 3,
   "id": "e5030e02",
   "metadata": {},
   "outputs": [
    {
     "data": {
      "text/plain": [
       "17"
      ]
     },
     "execution_count": 3,
     "metadata": {},
     "output_type": "execute_result"
    }
   ],
   "source": [
    "#This a simple arithmetic expression to mutiply then add integers\n",
    "(3*4+5)\n"
   ]
  },
  {
   "cell_type": "code",
   "execution_count": 5,
   "id": "00418611",
   "metadata": {},
   "outputs": [
    {
     "data": {
      "text/plain": [
       "3.3333333333333335"
      ]
     },
     "execution_count": 5,
     "metadata": {},
     "output_type": "execute_result"
    }
   ],
   "source": [
    "#This will convert 200 minutes to hours by diving by 60\n",
    "(200/60)\n"
   ]
  },
  {
   "cell_type": "markdown",
   "id": "e119e18d",
   "metadata": {},
   "source": [
    "## Author\n",
    " Bijay Thapa"
   ]
  },
  {
   "cell_type": "code",
   "execution_count": null,
   "id": "f7188d75",
   "metadata": {},
   "outputs": [],
   "source": []
  }
 ],
 "metadata": {
  "kernelspec": {
   "display_name": "Python 3 (ipykernel)",
   "language": "python",
   "name": "python3"
  },
  "language_info": {
   "codemirror_mode": {
    "name": "ipython",
    "version": 3
   },
   "file_extension": ".py",
   "mimetype": "text/x-python",
   "name": "python",
   "nbconvert_exporter": "python",
   "pygments_lexer": "ipython3",
   "version": "3.11.4"
  }
 },
 "nbformat": 4,
 "nbformat_minor": 5
}
